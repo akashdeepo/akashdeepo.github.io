{
  "nbformat": 4,
  "nbformat_minor": 0,
  "metadata": {
    "colab": {
      "name": "Untitled0.ipynb",
      "provenance": [],
      "authorship_tag": "ABX9TyMGUFnk6c33RsgmSruWZK6k",
      "include_colab_link": true
    },
    "kernelspec": {
      "name": "python3",
      "display_name": "Python 3"
    },
    "language_info": {
      "name": "python"
    }
  },
  "cells": [
    {
      "cell_type": "markdown",
      "metadata": {
        "id": "view-in-github",
        "colab_type": "text"
      },
      "source": [
        "<a href=\"https://colab.research.google.com/github/akashdeepo/akashdeepo.github.io/blob/main/TraderPy.ipynb\" target=\"_parent\"><img src=\"https://colab.research.google.com/assets/colab-badge.svg\" alt=\"Open In Colab\"/></a>"
      ]
    },
    {
      "cell_type": "code",
      "execution_count": 13,
      "metadata": {
        "id": "7X5xTMFidA7N"
      },
      "outputs": [],
      "source": [
        "# Description- LSTM long short term memory used to predict closing stock price of SPY."
      ]
    },
    {
      "cell_type": "code",
      "source": [
        "# Import Libraries\n",
        "import math\n",
        "import pandas_datareader as web\n",
        "import numpy as np\n",
        "import pandas as pd\n",
        "from sklearn.preprocessing import MinMaxScaler\n",
        "from keras.models import Sequential\n",
        "from keras.layers import Dense, LSTM\n",
        "import matplotlib.pyplot as plt\n",
        "plt.style.use('fivethirtyeight')\n",
        "\n",
        "#iter 2\n",
        "\n",
        "import datetime as dt\n",
        "from pandas_datareader import data as pdr\n",
        "import yfinance as yfin\n",
        "yfin.pdr_override()\n"
      ],
      "metadata": {
        "id": "BiQkNB9HdZCa"
      },
      "execution_count": 3,
      "outputs": []
    },
    {
      "cell_type": "code",
      "source": [
        "end=dt.datetime.now()\n",
        "start= dt.datetime(2016,1,1)\n",
        "start,end"
      ],
      "metadata": {
        "colab": {
          "base_uri": "https://localhost:8080/"
        },
        "id": "N9gl149pnQPE",
        "outputId": "a87e577a-b8c9-44f5-ae1d-bbbdfb45aafe"
      },
      "execution_count": 15,
      "outputs": [
        {
          "output_type": "execute_result",
          "data": {
            "text/plain": [
              "(datetime.datetime(2016, 1, 1, 0, 0),\n",
              " datetime.datetime(2022, 5, 22, 3, 0, 30, 365380))"
            ]
          },
          "metadata": {},
          "execution_count": 15
        }
      ]
    },
    {
      "cell_type": "code",
      "source": [
        "stocks=['TSLA']"
      ],
      "metadata": {
        "id": "_Th5iAGin8Xv"
      },
      "execution_count": 59,
      "outputs": []
    },
    {
      "cell_type": "code",
      "source": [
        "# getting Stock Quote\n",
        "df = pdr.get_data_yahoo(stocks,start,end)\n",
        "#show data\n",
        "print (df)"
      ],
      "metadata": {
        "colab": {
          "base_uri": "https://localhost:8080/"
        },
        "id": "s87iEuPPeV32",
        "outputId": "5864336b-565a-466b-9286-e94fec417831"
      },
      "execution_count": 60,
      "outputs": [
        {
          "output_type": "stream",
          "name": "stdout",
          "text": [
            "\r[*********************100%***********************]  1 of 1 completed\n",
            "                  Open        High         Low       Close   Adj Close  \\\n",
            "Date                                                                     \n",
            "2016-01-04   46.144001   46.276001   43.799999   44.681999   44.681999   \n",
            "2016-01-05   45.271999   45.377998   44.000000   44.686001   44.686001   \n",
            "2016-01-06   44.000000   44.009998   43.195999   43.807999   43.807999   \n",
            "2016-01-07   42.838001   43.688000   42.734001   43.130001   43.130001   \n",
            "2016-01-08   43.571999   44.088001   42.153999   42.200001   42.200001   \n",
            "...                ...         ...         ...         ...         ...   \n",
            "2022-05-16  767.159973  769.760010  719.090027  724.369995  724.369995   \n",
            "2022-05-17  747.359985  764.479980  728.849976  761.609985  761.609985   \n",
            "2022-05-18  744.520020  760.500000  700.809998  709.809998  709.809998   \n",
            "2022-05-19  707.000000  734.000000  694.109985  709.419983  709.419983   \n",
            "2022-05-20  713.989990  721.580017  633.000000  663.900024  663.900024   \n",
            "\n",
            "              Volume  \n",
            "Date                  \n",
            "2016-01-04  34135500  \n",
            "2016-01-05  15934000  \n",
            "2016-01-06  18895500  \n",
            "2016-01-07  17771500  \n",
            "2016-01-08  18140500  \n",
            "...              ...  \n",
            "2022-05-16  28699500  \n",
            "2022-05-17  26745400  \n",
            "2022-05-18  29270600  \n",
            "2022-05-19  30098900  \n",
            "2022-05-20  48190600  \n",
            "\n",
            "[1608 rows x 6 columns]\n"
          ]
        }
      ]
    },
    {
      "cell_type": "code",
      "source": [
        "#Get number of rows and columns in dataset\n",
        "df.shape"
      ],
      "metadata": {
        "colab": {
          "base_uri": "https://localhost:8080/"
        },
        "id": "dsOjgRDjkjEq",
        "outputId": "db638e52-6771-4d82-ee32-3a00aed345ec"
      },
      "execution_count": 61,
      "outputs": [
        {
          "output_type": "execute_result",
          "data": {
            "text/plain": [
              "(1608, 6)"
            ]
          },
          "metadata": {},
          "execution_count": 61
        }
      ]
    },
    {
      "cell_type": "code",
      "source": [
        "#visualise closing price history\n",
        "plt.figure(figsize=(16,8))\n",
        "plt.title('Close Price History')\n",
        "plt.plot(df['Close'])\n",
        "plt.xlabel('Date', fontsize=18)\n",
        "plt.ylabel('Close Price USD', fontsize=18)\n",
        "plt.show()"
      ],
      "metadata": {
        "colab": {
          "base_uri": "https://localhost:8080/",
          "height": 558
        },
        "id": "-Mo5bVWrtb9l",
        "outputId": "3dacf37a-1ecf-4256-e24c-b02bde913de6"
      },
      "execution_count": 62,
      "outputs": [
        {
          "output_type": "display_data",
          "data": {
            "text/plain": [
              "<Figure size 1152x576 with 1 Axes>"
            ],
            "image/png": "[encoded data removed]"
          },
          "metadata": {}
        }
      ]
    },
    {
      "cell_type": "code",
      "source": [
        "#Create a new data frame with only 'Close' Column\n",
        "data=df.filter(['Close'])\n",
        "# COnvert data frame to numpy array\n",
        "dataset= data.values\n",
        "#Get number of rows to train LSTM\n",
        "training_data_len= math.ceil(len(dataset)*.8)\n",
        "training_data_len"
      ],
      "metadata": {
        "colab": {
          "base_uri": "https://localhost:8080/"
        },
        "id": "UmbUJofdzWYw",
        "outputId": "2436cc39-b2a9-4572-f8ff-1f47c2f1ef1c"
      },
      "execution_count": 63,
      "outputs": [
        {
          "output_type": "execute_result",
          "data": {
            "text/plain": [
              "1287"
            ]
          },
          "metadata": {},
          "execution_count": 63
        }
      ]
    },
    {
      "cell_type": "code",
      "source": [
        "# Scale the data\n",
        "scaler = MinMaxScaler(feature_range=(0,1))\n",
        "scaled_data = scaler.fit_transform(dataset)\n",
        "\n",
        "scaled_data"
      ],
      "metadata": {
        "colab": {
          "base_uri": "https://localhost:8080/"
        },
        "id": "Kq9QtfL60Y7B",
        "outputId": "ecf15c3e-655a-44ef-866c-2a799c0d0af1"
      },
      "execution_count": 64,
      "outputs": [
        {
          "output_type": "execute_result",
          "data": {
            "text/plain": [
              "array([[0.01327699],\n",
              "       [0.01328032],\n",
              "       [0.01254937],\n",
              "       ...,\n",
              "       [0.56700765],\n",
              "       [0.56668295],\n",
              "       [0.52878679]])"
            ]
          },
          "metadata": {},
          "execution_count": 64
        }
      ]
    },
    {
      "cell_type": "code",
      "source": [
        "#Create training dataset\n",
        "#Create scaled training dataset\n",
        "train_data= scaled_data[0:training_data_len,:]\n",
        "#Split the data into x_train and y_train datasets\n",
        "x_train=[]\n",
        "y_train=[]\n",
        "\n",
        "for i in range(60,len(train_data)):\n",
        "  x_train.append(train_data[i-60:i, 0])\n",
        "  y_train.append(train_data[i, 0])\n",
        "  if i<=61:\n",
        "    print(x_train)\n",
        "    print(y_train)\n",
        "    print()"
      ],
      "metadata": {
        "colab": {
          "base_uri": "https://localhost:8080/"
        },
        "id": "jlZbuJYM1dXO",
        "outputId": "2f645b8d-e9d0-43e5-a990-1ccb75721226"
      },
      "execution_count": 65,
      "outputs": [
        {
          "output_type": "stream",
          "name": "stdout",
          "text": [
            "[array([0.01327699, 0.01328032, 0.01254937, 0.01198492, 0.01121068,\n",
            "       0.01068619, 0.01103918, 0.00943076, 0.01040813, 0.01021   ,\n",
            "       0.01016504, 0.00916269, 0.00937415, 0.00980372, 0.0087764 ,\n",
            "       0.00830686, 0.00739275, 0.00766416, 0.00791391, 0.00886964,\n",
            "       0.00651195, 0.00496347, 0.0052715 , 0.00315191, 0.0007193 ,\n",
            "       0.00076259, 0.        , 0.00113222, 0.00122713, 0.00191479,\n",
            "       0.00416425, 0.00384623, 0.0038146 , 0.00567277, 0.00558453,\n",
            "       0.00588257, 0.00728619, 0.00777072, 0.00803546, 0.00710637,\n",
            "       0.00743771, 0.00866984, 0.00955231, 0.01025994, 0.00981205,\n",
            "       0.01083105, 0.01024163, 0.01062792, 0.01190167, 0.01243282,\n",
            "       0.01303056, 0.0137715 , 0.01483047, 0.01575956, 0.01508022,\n",
            "       0.01313879, 0.01399961, 0.01441754, 0.01439589, 0.01385642])]\n",
            "[0.014335949779747097]\n",
            "\n",
            "[array([0.01327699, 0.01328032, 0.01254937, 0.01198492, 0.01121068,\n",
            "       0.01068619, 0.01103918, 0.00943076, 0.01040813, 0.01021   ,\n",
            "       0.01016504, 0.00916269, 0.00937415, 0.00980372, 0.0087764 ,\n",
            "       0.00830686, 0.00739275, 0.00766416, 0.00791391, 0.00886964,\n",
            "       0.00651195, 0.00496347, 0.0052715 , 0.00315191, 0.0007193 ,\n",
            "       0.00076259, 0.        , 0.00113222, 0.00122713, 0.00191479,\n",
            "       0.00416425, 0.00384623, 0.0038146 , 0.00567277, 0.00558453,\n",
            "       0.00588257, 0.00728619, 0.00777072, 0.00803546, 0.00710637,\n",
            "       0.00743771, 0.00866984, 0.00955231, 0.01025994, 0.00981205,\n",
            "       0.01083105, 0.01024163, 0.01062792, 0.01190167, 0.01243282,\n",
            "       0.01303056, 0.0137715 , 0.01483047, 0.01575956, 0.01508022,\n",
            "       0.01313879, 0.01399961, 0.01441754, 0.01439589, 0.01385642]), array([0.01328032, 0.01254937, 0.01198492, 0.01121068, 0.01068619,\n",
            "       0.01103918, 0.00943076, 0.01040813, 0.01021   , 0.01016504,\n",
            "       0.00916269, 0.00937415, 0.00980372, 0.0087764 , 0.00830686,\n",
            "       0.00739275, 0.00766416, 0.00791391, 0.00886964, 0.00651195,\n",
            "       0.00496347, 0.0052715 , 0.00315191, 0.0007193 , 0.00076259,\n",
            "       0.        , 0.00113222, 0.00122713, 0.00191479, 0.00416425,\n",
            "       0.00384623, 0.0038146 , 0.00567277, 0.00558453, 0.00588257,\n",
            "       0.00728619, 0.00777072, 0.00803546, 0.00710637, 0.00743771,\n",
            "       0.00866984, 0.00955231, 0.01025994, 0.00981205, 0.01083105,\n",
            "       0.01024163, 0.01062792, 0.01190167, 0.01243282, 0.01303056,\n",
            "       0.0137715 , 0.01483047, 0.01575956, 0.01508022, 0.01313879,\n",
            "       0.01399961, 0.01441754, 0.01439589, 0.01385642, 0.01433595])]\n",
            "[0.014335949779747097, 0.01563800954887763]\n",
            "\n"
          ]
        }
      ]
    },
    {
      "cell_type": "code",
      "source": [
        "#convert the x_train and y_train to numpy arrays\n",
        "x_train,y_train= np.array(x_train),np.array(y_train)"
      ],
      "metadata": {
        "id": "QHAkz06Q3GuX"
      },
      "execution_count": 66,
      "outputs": []
    },
    {
      "cell_type": "code",
      "source": [
        "#reshape data\n",
        "x_train= np.reshape(x_train,(x_train.shape[0],x_train.shape[1],1))\n",
        "x_train.shape"
      ],
      "metadata": {
        "colab": {
          "base_uri": "https://localhost:8080/"
        },
        "id": "rl8jbJpo3Z2Q",
        "outputId": "ae46a931-cd30-4f8b-e045-57605d1fdcbf"
      },
      "execution_count": 67,
      "outputs": [
        {
          "output_type": "execute_result",
          "data": {
            "text/plain": [
              "(1227, 60, 1)"
            ]
          },
          "metadata": {},
          "execution_count": 67
        }
      ]
    },
    {
      "cell_type": "code",
      "source": [
        "#Building the LSTM model\n",
        "model= Sequential()\n",
        "model.add(LSTM(50,return_sequences=True, input_shape= (x_train.shape[1],1)))\n",
        "model.add(LSTM(50,return_sequences=False))\n",
        "model.add(Dense(25))\n",
        "model.add(Dense(1))"
      ],
      "metadata": {
        "id": "02on4NJV3xbp"
      },
      "execution_count": 68,
      "outputs": []
    },
    {
      "cell_type": "code",
      "source": [
        "#compiling model\n",
        "model.compile(optimizer='adam',loss='mean_squared_error')"
      ],
      "metadata": {
        "id": "6HCT71i34rTA"
      },
      "execution_count": 69,
      "outputs": []
    },
    {
      "cell_type": "code",
      "source": [
        "#train the model\n",
        "model.fit(x_train,y_train, batch_size=1, epochs=1)"
      ],
      "metadata": {
        "colab": {
          "base_uri": "https://localhost:8080/"
        },
        "id": "IF42qL574-41",
        "outputId": "deb2bf60-949c-4e88-f9cd-fc4493cb37fe"
      },
      "execution_count": 70,
      "outputs": [
        {
          "output_type": "stream",
          "name": "stdout",
          "text": [
            "1227/1227 [==============================] - 38s 28ms/step - loss: 9.1418e-04\n"
          ]
        },
        {
          "output_type": "execute_result",
          "data": {
            "text/plain": [
              "<keras.callbacks.History at 0x7f3f19a67490>"
            ]
          },
          "metadata": {},
          "execution_count": 70
        }
      ]
    },
    {
      "cell_type": "code",
      "source": [
        "#Create the testing data set\n",
        "#create a new array containing scaled values from index 1227 to 2003\n",
        "test_data= scaled_data[training_data_len-60: , :]\n",
        "#Create datasets x_test and y_test\n",
        "x_test=[]\n",
        "y_test= dataset[training_data_len:, :]\n",
        "for i in range(60,len(test_data)):\n",
        "  x_test.append(test_data[i-60:i,0])\n",
        "  "
      ],
      "metadata": {
        "id": "oKaYvWmN6Dwm"
      },
      "execution_count": 71,
      "outputs": []
    },
    {
      "cell_type": "code",
      "source": [
        "#Convert data to numpy array\n",
        "x_test=np.array(x_test)\n"
      ],
      "metadata": {
        "id": "pivqLZIR7bQh"
      },
      "execution_count": 72,
      "outputs": []
    },
    {
      "cell_type": "code",
      "source": [
        "#reshape data from 2d-3d\n",
        "x_test= np.reshape(x_test,(x_test.shape[0],x_test.shape[1],1))"
      ],
      "metadata": {
        "id": "FhjTqgYg7kL4"
      },
      "execution_count": 73,
      "outputs": []
    },
    {
      "cell_type": "code",
      "source": [
        "# Get the models predictions\n",
        "predictions=model.predict(x_test)\n",
        "predictions= scaler.inverse_transform(predictions)"
      ],
      "metadata": {
        "id": "CO6qYsGq8QGy"
      },
      "execution_count": 74,
      "outputs": []
    },
    {
      "cell_type": "code",
      "source": [
        "#Get the RMS error to evaluate model\n",
        "rmse= np.sqrt(np.mean(predictions-y_test)**2)\n",
        "rmse"
      ],
      "metadata": {
        "colab": {
          "base_uri": "https://localhost:8080/"
        },
        "id": "oOnwcc1q8tks",
        "outputId": "ba944bb0-f416-4402-db6d-62a5f4f052f3"
      },
      "execution_count": 75,
      "outputs": [
        {
          "output_type": "execute_result",
          "data": {
            "text/plain": [
              "123.95702383451372"
            ]
          },
          "metadata": {},
          "execution_count": 75
        }
      ]
    },
    {
      "cell_type": "code",
      "source": [
        "#Plot the data\n",
        "train=data[:training_data_len]\n",
        "valid= data[training_data_len:]\n",
        "valid['Predictions']= predictions\n",
        "#visualise\n",
        "plt.figure(figsize=(16,8))\n",
        "plt.title('Model')\n",
        "plt.xlabel('Date',fontsize=18)\n",
        "plt.ylabel('Close Price USD',fontsize=18)\n",
        "plt.plot(train['Close'])\n",
        "plt.plot(valid[['Close', 'Predictions']])\n",
        "plt.legend(['Train','Val','Predictions'],loc='lower right')\n",
        "plt.show()"
      ],
      "metadata": {
        "colab": {
          "base_uri": "https://localhost:8080/",
          "height": 662
        },
        "id": "8fM78VtU9RyY",
        "outputId": "13e849a4-da76-48a2-a888-49f3e33d657c"
      },
      "execution_count": 78,
      "outputs": [
        {
          "output_type": "stream",
          "name": "stderr",
          "text": [
            "/usr/local/lib/python3.7/dist-packages/ipykernel_launcher.py:4: SettingWithCopyWarning: \n",
            "A value is trying to be set on a copy of a slice from a DataFrame.\n",
            "Try using .loc[row_indexer,col_indexer] = value instead\n",
            "\n",
            "See the caveats in the documentation: https://pandas.pydata.org/pandas-docs/stable/user_guide/indexing.html#returning-a-view-versus-a-copy\n",
            "  after removing the cwd from sys.path.\n"
          ]
        },
        {
          "output_type": "display_data",
          "data": {
            "text/plain": [
              "<Figure size 1152x576 with 1 Axes>"
            ],
            "image/png": "[encoded data removed]"
          },
          "metadata": {}
        }
      ]
    },
    {
      "cell_type": "code",
      "source": [
        "#Show the actal and predicted prices\n",
        "valid"
      ],
      "metadata": {
        "colab": {
          "base_uri": "https://localhost:8080/",
          "height": 455
        },
        "id": "XiUSWHMe_FGA",
        "outputId": "d2ab1317-99a5-4915-8863-cf58d5dff960"
      },
      "execution_count": 79,
      "outputs": [
        {
          "output_type": "execute_result",
          "data": {
            "text/plain": [
              "                 Close  Predictions\n",
              "Date                               \n",
              "2021-02-12  816.119995   713.965210\n",
              "2021-02-16  796.219971   709.487854\n",
              "2021-02-17  798.150024   703.941406\n",
              "2021-02-18  787.380005   698.555237\n",
              "2021-02-19  781.299988   692.931702\n",
              "...                ...          ...\n",
              "2022-05-16  724.369995   684.389465\n",
              "2022-05-17  761.609985   670.331726\n",
              "2022-05-18  709.809998   660.814453\n",
              "2022-05-19  709.419983   650.541260\n",
              "2022-05-20  663.900024   640.932678\n",
              "\n",
              "[321 rows x 2 columns]"
            ],
            "text/html": [
              "\n",
              "  <div id=\"df-faeeaaf6-c89a-4d21-a67c-beb55a1ed7af\">\n",
              "    <div class=\"colab-df-container\">\n",
              "      <div>\n",
              "<style scoped>\n",
              "    .dataframe tbody tr th:only-of-type {\n",
              "        vertical-align: middle;\n",
              "    }\n",
              "\n",
              "    .dataframe tbody tr th {\n",
              "        vertical-align: top;\n",
              "    }\n",
              "\n",
              "    .dataframe thead th {\n",
              "        text-align: right;\n",
              "    }\n",
              "</style>\n",
              "<table border=\"1\" class=\"dataframe\">\n",
              "  <thead>\n",
              "    <tr style=\"text-align: right;\">\n",
              "      <th></th>\n",
              "      <th>Close</th>\n",
              "      <th>Predictions</th>\n",
              "    </tr>\n",
              "    <tr>\n",
              "      <th>Date</th>\n",
              "      <th></th>\n",
              "      <th></th>\n",
              "    </tr>\n",
              "  </thead>\n",
              "  <tbody>\n",
              "    <tr>\n",
              "      <th>2021-02-12</th>\n",
              "      <td>816.119995</td>\n",
              "      <td>713.965210</td>\n",
              "    </tr>\n",
              "    <tr>\n",
              "      <th>2021-02-16</th>\n",
              "      <td>796.219971</td>\n",
              "      <td>709.487854</td>\n",
              "    </tr>\n",
              "    <tr>\n",
              "      <th>2021-02-17</th>\n",
              "      <td>798.150024</td>\n",
              "      <td>703.941406</td>\n",
              "    </tr>\n",
              "    <tr>\n",
              "      <th>2021-02-18</th>\n",
              "      <td>787.380005</td>\n",
              "      <td>698.555237</td>\n",
              "    </tr>\n",
              "    <tr>\n",
              "      <th>2021-02-19</th>\n",
              "      <td>781.299988</td>\n",
              "      <td>692.931702</td>\n",
              "    </tr>\n",
              "    <tr>\n",
              "      <th>...</th>\n",
              "      <td>...</td>\n",
              "      <td>...</td>\n",
              "    </tr>\n",
              "    <tr>\n",
              "      <th>2022-05-16</th>\n",
              "      <td>724.369995</td>\n",
              "      <td>684.389465</td>\n",
              "    </tr>\n",
              "    <tr>\n",
              "      <th>2022-05-17</th>\n",
              "      <td>761.609985</td>\n",
              "      <td>670.331726</td>\n",
              "    </tr>\n",
              "    <tr>\n",
              "      <th>2022-05-18</th>\n",
              "      <td>709.809998</td>\n",
              "      <td>660.814453</td>\n",
              "    </tr>\n",
              "    <tr>\n",
              "      <th>2022-05-19</th>\n",
              "      <td>709.419983</td>\n",
              "      <td>650.541260</td>\n",
              "    </tr>\n",
              "    <tr>\n",
              "      <th>2022-05-20</th>\n",
              "      <td>663.900024</td>\n",
              "      <td>640.932678</td>\n",
              "    </tr>\n",
              "  </tbody>\n",
              "</table>\n",
              "<p>321 rows × 2 columns</p>\n",
              "</div>\n",
              "      <button class=\"colab-df-convert\" onclick=\"convertToInteractive('df-faeeaaf6-c89a-4d21-a67c-beb55a1ed7af')\"\n",
              "              title=\"Convert this dataframe to an interactive table.\"\n",
              "              style=\"display:none;\">\n",
              "        \n",
              "  <svg xmlns=\"http://www.w3.org/2000/svg\" height=\"24px\"viewBox=\"0 0 24 24\"\n",
              "       width=\"24px\">\n",
              "    <path d=\"M0 0h24v24H0V0z\" fill=\"none\"/>\n",
              "    <path d=\"M18.56 5.44l.94 2.06.94-2.06 2.06-.94-2.06-.94-.94-2.06-.94 2.06-2.06.94zm-11 1L8.5 8.5l.94-2.06 2.06-.94-2.06-.94L8.5 2.5l-.94 2.06-2.06.94zm10 10l.94 2.06.94-2.06 2.06-.94-2.06-.94-.94-2.06-.94 2.06-2.06.94z\"/><path d=\"M17.41 7.96l-1.37-1.37c-.4-.4-.92-.59-1.43-.59-.52 0-1.04.2-1.43.59L10.3 9.45l-7.72 7.72c-.78.78-.78 2.05 0 2.83L4 21.41c.39.39.9.59 1.41.59.51 0 1.02-.2 1.41-.59l7.78-7.78 2.81-2.81c.8-.78.8-2.07 0-2.86zM5.41 20L4 18.59l7.72-7.72 1.47 1.35L5.41 20z\"/>\n",
              "  </svg>\n",
              "      </button>\n",
              "      \n",
              "  <style>\n",
              "    .colab-df-container {\n",
              "      display:flex;\n",
              "      flex-wrap:wrap;\n",
              "      gap: 12px;\n",
              "    }\n",
              "\n",
              "    .colab-df-convert {\n",
              "      background-color: #E8F0FE;\n",
              "      border: none;\n",
              "      border-radius: 50%;\n",
              "      cursor: pointer;\n",
              "      display: none;\n",
              "      fill: #1967D2;\n",
              "      height: 32px;\n",
              "      padding: 0 0 0 0;\n",
              "      width: 32px;\n",
              "    }\n",
              "\n",
              "    .colab-df-convert:hover {\n",
              "      background-color: #E2EBFA;\n",
              "      box-shadow: 0px 1px 2px rgba(60, 64, 67, 0.3), 0px 1px 3px 1px rgba(60, 64, 67, 0.15);\n",
              "      fill: #174EA6;\n",
              "    }\n",
              "\n",
              "    [theme=dark] .colab-df-convert {\n",
              "      background-color: #3B4455;\n",
              "      fill: #D2E3FC;\n",
              "    }\n",
              "\n",
              "    [theme=dark] .colab-df-convert:hover {\n",
              "      background-color: #434B5C;\n",
              "      box-shadow: 0px 1px 3px 1px rgba(0, 0, 0, 0.15);\n",
              "      filter: drop-shadow(0px 1px 2px rgba(0, 0, 0, 0.3));\n",
              "      fill: #FFFFFF;\n",
              "    }\n",
              "  </style>\n",
              "\n",
              "      <script>\n",
              "        const buttonEl =\n",
              "          document.querySelector('#df-faeeaaf6-c89a-4d21-a67c-beb55a1ed7af button.colab-df-convert');\n",
              "        buttonEl.style.display =\n",
              "          google.colab.kernel.accessAllowed ? 'block' : 'none';\n",
              "\n",
              "        async function convertToInteractive(key) {\n",
              "          const element = document.querySelector('#df-faeeaaf6-c89a-4d21-a67c-beb55a1ed7af');\n",
              "          const dataTable =\n",
              "            await google.colab.kernel.invokeFunction('convertToInteractive',\n",
              "                                                     [key], {});\n",
              "          if (!dataTable) return;\n",
              "\n",
              "          const docLinkHtml = 'Like what you see? Visit the ' +\n",
              "            '<a target=\"_blank\" href=https://colab.research.google.com/notebooks/data_table.ipynb>data table notebook</a>'\n",
              "            + ' to learn more about interactive tables.';\n",
              "          element.innerHTML = '';\n",
              "          dataTable['output_type'] = 'display_data';\n",
              "          await google.colab.output.renderOutput(dataTable, element);\n",
              "          const docLink = document.createElement('div');\n",
              "          docLink.innerHTML = docLinkHtml;\n",
              "          element.appendChild(docLink);\n",
              "        }\n",
              "      </script>\n",
              "    </div>\n",
              "  </div>\n",
              "  "
            ]
          },
          "metadata": {},
          "execution_count": 79
        }
      ]
    },
    {
      "cell_type": "code",
      "source": [
        "#Get the quote \n",
        "end=dt.datetime.now()\n",
        "start= dt.datetime(2016,1,1)\n",
        "stocks=['TSLA']\n",
        "spy_quote = pdr.get_data_yahoo(stocks,start,end)\n",
        "#create a new data frame\n",
        "new_df= spy_quote.filter(['Close'])\n",
        "#get last 60 days data frme nd covert to araays\n",
        "last_60_days= new_df[-60:].values\n",
        "#Scale data to be vals bw 0&1\n",
        "last_60_days_scaled= scaler.transform(last_60_days)\n",
        "#create empty list\n",
        "X_test=[]\n",
        "#append past 60 days \n",
        "X_test.append(last_60_days_scaled)\n",
        "#covert Xdataset to numpy array\n",
        "X_test= np.array(X_test)\n",
        "#reshape\n",
        "X_test =np.reshape(X_test,(X_test.shape[0],X_test.shape[1],1))\n",
        "#predeiceted scal price\n",
        "pred_price = model.predict(X_test)\n",
        "#undo scaling\n",
        "pred_price = scaler.inverse_transform(pred_price)\n",
        "print(pred_price)"
      ],
      "metadata": {
        "colab": {
          "base_uri": "https://localhost:8080/"
        },
        "id": "zkkkjwlX_Voi",
        "outputId": "43e5e00b-88ef-4820-daa1-68e7651b1908"
      },
      "execution_count": 80,
      "outputs": [
        {
          "output_type": "stream",
          "name": "stdout",
          "text": [
            "\r[*********************100%***********************]  1 of 1 completed\n",
            "[[628.98987]]\n"
          ]
        }
      ]
    }
  ]
}